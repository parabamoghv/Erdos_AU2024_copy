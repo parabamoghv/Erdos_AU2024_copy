{
 "cells": [
  {
   "cell_type": "markdown",
   "metadata": {},
   "source": [
    "#### Basic Python"
   ]
  },
  {
   "cell_type": "code",
   "execution_count": 11,
   "metadata": {},
   "outputs": [],
   "source": [
    "import math\n",
    "from typing import Callable, Iterable, Dict"
   ]
  },
  {
   "cell_type": "code",
   "execution_count": 12,
   "metadata": {},
   "outputs": [
    {
     "ename": "AssertionError",
     "evalue": "",
     "output_type": "error",
     "traceback": [
      "\u001b[1;31m---------------------------------------------------------------------------\u001b[0m",
      "\u001b[1;31mAssertionError\u001b[0m                            Traceback (most recent call last)",
      "Cell \u001b[1;32mIn[12], line 13\u001b[0m\n\u001b[0;32m      2\u001b[0m \u001b[38;5;250m    \u001b[39m\u001b[38;5;124;03m'''\u001b[39;00m\n\u001b[0;32m      3\u001b[0m \u001b[38;5;124;03m    Counts how many times each element appears in the list of strings.\u001b[39;00m\n\u001b[0;32m      4\u001b[0m \n\u001b[1;32m   (...)\u001b[0m\n\u001b[0;32m      9\u001b[0m \u001b[38;5;124;03m        A dictionary whose keys are unique elements of ls and whose values count the number of occurrences.\u001b[39;00m\n\u001b[0;32m     10\u001b[0m \u001b[38;5;124;03m    '''\u001b[39;00m\n\u001b[0;32m     11\u001b[0m     \u001b[38;5;66;03m# TODO: Implement function\u001b[39;00m\n\u001b[1;32m---> 13\u001b[0m \u001b[38;5;28;01massert\u001b[39;00m(counter([\u001b[38;5;124m'\u001b[39m\u001b[38;5;124ma\u001b[39m\u001b[38;5;124m'\u001b[39m,\u001b[38;5;124m'\u001b[39m\u001b[38;5;124mb\u001b[39m\u001b[38;5;124m'\u001b[39m,\u001b[38;5;124m'\u001b[39m\u001b[38;5;124ma\u001b[39m\u001b[38;5;124m'\u001b[39m,\u001b[38;5;124m'\u001b[39m\u001b[38;5;124mab\u001b[39m\u001b[38;5;124m'\u001b[39m]) \u001b[38;5;241m==\u001b[39m {\u001b[38;5;124m'\u001b[39m\u001b[38;5;124ma\u001b[39m\u001b[38;5;124m'\u001b[39m:\u001b[38;5;241m2\u001b[39m, \u001b[38;5;124m'\u001b[39m\u001b[38;5;124mb\u001b[39m\u001b[38;5;124m'\u001b[39m:\u001b[38;5;241m1\u001b[39m, \u001b[38;5;124m'\u001b[39m\u001b[38;5;124mab\u001b[39m\u001b[38;5;124m'\u001b[39m:\u001b[38;5;241m1\u001b[39m})\n\u001b[0;32m     14\u001b[0m \u001b[38;5;28;01massert\u001b[39;00m(counter([]) \u001b[38;5;241m==\u001b[39m {})\n",
      "\u001b[1;31mAssertionError\u001b[0m: "
     ]
    }
   ],
   "source": [
    "def counter(ls: Iterable[str]) -> Dict[str, int]:\n",
    "    '''\n",
    "    Counts how many times each element appears in the list of strings.\n",
    "\n",
    "    Args: \n",
    "        ls: a list of strings\n",
    "\n",
    "    Returns:\n",
    "        A dictionary whose keys are unique elements of ls and whose values count the number of occurrences.\n",
    "    '''\n",
    "    # TODO: Implement function\n",
    "\n",
    "assert(counter(['a','b','a','ab']) == {'a':2, 'b':1, 'ab':1})\n",
    "assert(counter([]) == {})"
   ]
  },
  {
   "cell_type": "code",
   "execution_count": null,
   "metadata": {},
   "outputs": [],
   "source": [
    "def last_two_chars(s:str) -> str:\n",
    "    '''\n",
    "    Takes a string as input and returns the last two characters as output.\n",
    "    If the input has less than two characters it should return the string.\n",
    "    '''\n",
    "    # TODO: Implement function\n",
    "\n",
    "assert(last_two_chars('hello') == 'lo')\n",
    "assert(last_two_chars('r') == 'r')\n",
    "assert(last_two_chars('') == '')"
   ]
  },
  {
   "cell_type": "code",
   "execution_count": null,
   "metadata": {},
   "outputs": [],
   "source": [
    "def get_words_with_substring(sentence: str, substring: str) -> Iterable[str]:\n",
    "    '''\n",
    "    Finds all words in a sentence with a given substring\n",
    "\n",
    "    Args:\n",
    "        sentence: A string. \"Words\" are considered to be any block of characters separated by spaces.\n",
    "        substring: A string.\n",
    "\n",
    "    Returns:\n",
    "        A list of the words which contain the substring.\n",
    "    '''\n",
    "    # TODO: Implement function. Try to do this with a single list comprehension.\n",
    "\n",
    "\n",
    "assert(get_words_with_substring('Hello how are you doing today?', 'a') == ['are', 'today?'])\n",
    "assert(get_words_with_substring(\"a ab abc abcd dabc rabcf\", 'abc') == ['abc', 'abcd', 'dabc', 'rabcf'])"
   ]
  },
  {
   "cell_type": "code",
   "execution_count": null,
   "metadata": {},
   "outputs": [],
   "source": [
    "def is_close(x: float, y: float) -> bool:\n",
    "    \"is_close(x) should return True if |x - y| < 0.01\"\n",
    "    # TODO: Implement function\n",
    "    \n",
    "assert(is_close(7, 7.001))\n",
    "assert(is_close(7, 6.995))\n",
    "assert(not(is_close(7,8)))"
   ]
  },
  {
   "cell_type": "markdown",
   "metadata": {},
   "source": [
    "#### Python libraries"
   ]
  },
  {
   "cell_type": "code",
   "execution_count": 13,
   "metadata": {},
   "outputs": [
    {
     "name": "stdout",
     "output_type": "stream",
     "text": [
      "2.1.1 2.2.2 3.9.2\n"
     ]
    }
   ],
   "source": [
    "# import numpy as np, pandas as pd, matplotlib as mpl, and matplotlib.pyplot as plt.  Check the versions.\n",
    "import numpy as np  \n",
    "import pandas as pd\n",
    "import matplotlib as mpl\n",
    "import matplotlib.pyplot as plt\n",
    "\n",
    "print(np.__version__, pd.__version__, mpl.__version__)\n"
   ]
  },
  {
   "cell_type": "code",
   "execution_count": 31,
   "metadata": {},
   "outputs": [
    {
     "name": "stdout",
     "output_type": "stream",
     "text": [
      "[-5.35610791e-01  7.27576121e-01  8.30424561e-02  5.93792268e-01\n",
      "  3.64498427e-01 -2.98079629e+00 -1.12244686e-01 -2.45006956e+00\n",
      " -1.28114928e+00  2.34811358e-01  6.55805809e-01 -7.04925664e-01\n",
      "  8.63780852e-01 -3.09193967e-01 -4.53191767e-01 -1.46422619e+00\n",
      "  1.01278717e+00  1.13648025e+00  1.61677969e+00  2.44532183e-03]\n"
     ]
    },
    {
     "data": {
      "image/png": "[encoded data removed]",
      "text/plain": [
       "<Figure size 640x480 with 1 Axes>"
      ]
     },
     "metadata": {},
     "output_type": "display_data"
    }
   ],
   "source": [
    "# Use np.random.uniform to make an array X of 20 observations drawn uniformly at random from the interval [0,10].\n",
    "# Use np.random.randn to make an array eps of 20 observations drawn from the standard normal distribution.\n",
    "# Define y = 3*X + eps.\n",
    "# Graph a scatter plot of y against X using plt.\n",
    "\n",
    "X = np.random.uniform(0, 10, 20)\n",
    "eps = (np.random.randn(20))\n",
    "print(eps)\n",
    "y = 3*X + eps\n",
    "\n",
    "plt.scatter(X, y)\n",
    "plt.show()"
   ]
  },
  {
   "cell_type": "code",
   "execution_count": 32,
   "metadata": {},
   "outputs": [
    {
     "data": {
      "text/html": [
       "<div>\n",
       "<style scoped>\n",
       "    .dataframe tbody tr th:only-of-type {\n",
       "        vertical-align: middle;\n",
       "    }\n",
       "\n",
       "    .dataframe tbody tr th {\n",
       "        vertical-align: top;\n",
       "    }\n",
       "\n",
       "    .dataframe thead th {\n",
       "        text-align: right;\n",
       "    }\n",
       "</style>\n",
       "<table border=\"1\" class=\"dataframe\">\n",
       "  <thead>\n",
       "    <tr style=\"text-align: right;\">\n",
       "      <th></th>\n",
       "      <th>0</th>\n",
       "      <th>1</th>\n",
       "      <th>2</th>\n",
       "    </tr>\n",
       "  </thead>\n",
       "  <tbody>\n",
       "    <tr>\n",
       "      <th>0</th>\n",
       "      <td>-0.952588</td>\n",
       "      <td>0.534865</td>\n",
       "      <td>-5.599389</td>\n",
       "    </tr>\n",
       "    <tr>\n",
       "      <th>1</th>\n",
       "      <td>0.227398</td>\n",
       "      <td>0.528785</td>\n",
       "      <td>-8.089018</td>\n",
       "    </tr>\n",
       "    <tr>\n",
       "      <th>2</th>\n",
       "      <td>-0.255478</td>\n",
       "      <td>1.650300</td>\n",
       "      <td>1.915297</td>\n",
       "    </tr>\n",
       "    <tr>\n",
       "      <th>3</th>\n",
       "      <td>0.567800</td>\n",
       "      <td>-0.954633</td>\n",
       "      <td>-0.925728</td>\n",
       "    </tr>\n",
       "    <tr>\n",
       "      <th>4</th>\n",
       "      <td>-1.457093</td>\n",
       "      <td>-0.805594</td>\n",
       "      <td>-10.276062</td>\n",
       "    </tr>\n",
       "    <tr>\n",
       "      <th>...</th>\n",
       "      <td>...</td>\n",
       "      <td>...</td>\n",
       "      <td>...</td>\n",
       "    </tr>\n",
       "    <tr>\n",
       "      <th>95</th>\n",
       "      <td>0.959851</td>\n",
       "      <td>-1.180566</td>\n",
       "      <td>-0.385394</td>\n",
       "    </tr>\n",
       "    <tr>\n",
       "      <th>96</th>\n",
       "      <td>-0.707453</td>\n",
       "      <td>1.881651</td>\n",
       "      <td>-2.035719</td>\n",
       "    </tr>\n",
       "    <tr>\n",
       "      <th>97</th>\n",
       "      <td>0.152420</td>\n",
       "      <td>0.893465</td>\n",
       "      <td>14.789802</td>\n",
       "    </tr>\n",
       "    <tr>\n",
       "      <th>98</th>\n",
       "      <td>0.585019</td>\n",
       "      <td>1.305839</td>\n",
       "      <td>14.694272</td>\n",
       "    </tr>\n",
       "    <tr>\n",
       "      <th>99</th>\n",
       "      <td>0.907968</td>\n",
       "      <td>1.146518</td>\n",
       "      <td>3.214849</td>\n",
       "    </tr>\n",
       "  </tbody>\n",
       "</table>\n",
       "<p>100 rows × 3 columns</p>\n",
       "</div>"
      ],
      "text/plain": [
       "           0         1          2\n",
       "0  -0.952588  0.534865  -5.599389\n",
       "1   0.227398  0.528785  -8.089018\n",
       "2  -0.255478  1.650300   1.915297\n",
       "3   0.567800 -0.954633  -0.925728\n",
       "4  -1.457093 -0.805594 -10.276062\n",
       "..       ...       ...        ...\n",
       "95  0.959851 -1.180566  -0.385394\n",
       "96 -0.707453  1.881651  -2.035719\n",
       "97  0.152420  0.893465  14.789802\n",
       "98  0.585019  1.305839  14.694272\n",
       "99  0.907968  1.146518   3.214849\n",
       "\n",
       "[100 rows x 3 columns]"
      ]
     },
     "execution_count": 32,
     "metadata": {},
     "output_type": "execute_result"
    }
   ],
   "source": [
    "# use pd.read_csv with header = None to read \"X.txt\" into a DataFrame called df.\n",
    "\n",
    "df = pd.read_csv(\"X.txt\", header=None)\n",
    "df"
   ]
  },
  {
   "cell_type": "code",
   "execution_count": 33,
   "metadata": {},
   "outputs": [],
   "source": [
    "# Rename the columns of df x0, x1, and y\n",
    "df.columns = [\"x0\", \"x1\", \"y\"]"
   ]
  },
  {
   "cell_type": "code",
   "execution_count": 40,
   "metadata": {},
   "outputs": [
    {
     "data": {
      "image/png": "[encoded data removed]",
      "text/plain": [
       "<Figure size 640x480 with 1 Axes>"
      ]
     },
     "metadata": {},
     "output_type": "display_data"
    }
   ],
   "source": [
    "# Make a scatter plot of y against x1\n",
    "plt.scatter(df[\"x0\"], df[\"y\"])\n",
    "plt.show()"
   ]
  },
  {
   "cell_type": "code",
   "execution_count": 41,
   "metadata": {},
   "outputs": [],
   "source": [
    "# Make a new column called 'preds' whose values are 2*x0 + 3*x1.  \n",
    "df[\"preds\"] = 2*df[\"x0\"] + 3 * df[\"x1\"]"
   ]
  },
  {
   "cell_type": "code",
   "execution_count": 42,
   "metadata": {},
   "outputs": [
    {
     "data": {
      "text/plain": [
       "np.float64(5.870787343491319)"
      ]
     },
     "execution_count": 42,
     "metadata": {},
     "output_type": "execute_result"
    }
   ],
   "source": [
    "# Compute the standard deviation of the difference between y and preds.\n",
    "(df[\"y\"]-df[\"preds\"]).std()"
   ]
  },
  {
   "cell_type": "code",
   "execution_count": 44,
   "metadata": {},
   "outputs": [
    {
     "data": {
      "text/html": [
       "<div>\n",
       "<style scoped>\n",
       "    .dataframe tbody tr th:only-of-type {\n",
       "        vertical-align: middle;\n",
       "    }\n",
       "\n",
       "    .dataframe tbody tr th {\n",
       "        vertical-align: top;\n",
       "    }\n",
       "\n",
       "    .dataframe thead th {\n",
       "        text-align: right;\n",
       "    }\n",
       "</style>\n",
       "<table border=\"1\" class=\"dataframe\">\n",
       "  <thead>\n",
       "    <tr style=\"text-align: right;\">\n",
       "      <th></th>\n",
       "      <th>x0</th>\n",
       "      <th>x1</th>\n",
       "      <th>y</th>\n",
       "      <th>preds</th>\n",
       "    </tr>\n",
       "  </thead>\n",
       "  <tbody>\n",
       "    <tr>\n",
       "      <th>1</th>\n",
       "      <td>0.227398</td>\n",
       "      <td>0.528785</td>\n",
       "      <td>-8.089018</td>\n",
       "      <td>2.041151</td>\n",
       "    </tr>\n",
       "    <tr>\n",
       "      <th>5</th>\n",
       "      <td>0.252421</td>\n",
       "      <td>0.869484</td>\n",
       "      <td>-0.608612</td>\n",
       "      <td>3.113295</td>\n",
       "    </tr>\n",
       "    <tr>\n",
       "      <th>6</th>\n",
       "      <td>0.668834</td>\n",
       "      <td>0.154752</td>\n",
       "      <td>-0.671790</td>\n",
       "      <td>1.801922</td>\n",
       "    </tr>\n",
       "    <tr>\n",
       "      <th>12</th>\n",
       "      <td>0.264434</td>\n",
       "      <td>0.248535</td>\n",
       "      <td>6.983702</td>\n",
       "      <td>1.274472</td>\n",
       "    </tr>\n",
       "    <tr>\n",
       "      <th>19</th>\n",
       "      <td>0.610989</td>\n",
       "      <td>0.227108</td>\n",
       "      <td>-13.857588</td>\n",
       "      <td>1.903300</td>\n",
       "    </tr>\n",
       "    <tr>\n",
       "      <th>24</th>\n",
       "      <td>0.480500</td>\n",
       "      <td>0.305256</td>\n",
       "      <td>-5.360951</td>\n",
       "      <td>1.876767</td>\n",
       "    </tr>\n",
       "    <tr>\n",
       "      <th>32</th>\n",
       "      <td>0.250297</td>\n",
       "      <td>0.640378</td>\n",
       "      <td>-0.320770</td>\n",
       "      <td>2.421728</td>\n",
       "    </tr>\n",
       "    <tr>\n",
       "      <th>41</th>\n",
       "      <td>1.424222</td>\n",
       "      <td>0.468212</td>\n",
       "      <td>9.743906</td>\n",
       "      <td>4.253078</td>\n",
       "    </tr>\n",
       "    <tr>\n",
       "      <th>44</th>\n",
       "      <td>0.357036</td>\n",
       "      <td>1.018513</td>\n",
       "      <td>3.206200</td>\n",
       "      <td>3.769611</td>\n",
       "    </tr>\n",
       "    <tr>\n",
       "      <th>46</th>\n",
       "      <td>0.775585</td>\n",
       "      <td>0.723395</td>\n",
       "      <td>-5.030715</td>\n",
       "      <td>3.721356</td>\n",
       "    </tr>\n",
       "    <tr>\n",
       "      <th>48</th>\n",
       "      <td>1.869891</td>\n",
       "      <td>0.444779</td>\n",
       "      <td>10.702530</td>\n",
       "      <td>5.074118</td>\n",
       "    </tr>\n",
       "    <tr>\n",
       "      <th>70</th>\n",
       "      <td>0.222521</td>\n",
       "      <td>1.088262</td>\n",
       "      <td>5.091169</td>\n",
       "      <td>3.709830</td>\n",
       "    </tr>\n",
       "    <tr>\n",
       "      <th>71</th>\n",
       "      <td>1.390700</td>\n",
       "      <td>0.394296</td>\n",
       "      <td>-7.530845</td>\n",
       "      <td>3.964289</td>\n",
       "    </tr>\n",
       "    <tr>\n",
       "      <th>76</th>\n",
       "      <td>1.187308</td>\n",
       "      <td>0.505290</td>\n",
       "      <td>8.516486</td>\n",
       "      <td>3.890486</td>\n",
       "    </tr>\n",
       "    <tr>\n",
       "      <th>78</th>\n",
       "      <td>0.642443</td>\n",
       "      <td>0.838017</td>\n",
       "      <td>9.496909</td>\n",
       "      <td>3.798939</td>\n",
       "    </tr>\n",
       "    <tr>\n",
       "      <th>82</th>\n",
       "      <td>1.108854</td>\n",
       "      <td>0.347830</td>\n",
       "      <td>-4.933482</td>\n",
       "      <td>3.261198</td>\n",
       "    </tr>\n",
       "    <tr>\n",
       "      <th>83</th>\n",
       "      <td>0.491577</td>\n",
       "      <td>1.346452</td>\n",
       "      <td>2.883569</td>\n",
       "      <td>5.022511</td>\n",
       "    </tr>\n",
       "    <tr>\n",
       "      <th>88</th>\n",
       "      <td>0.250207</td>\n",
       "      <td>0.180566</td>\n",
       "      <td>6.765653</td>\n",
       "      <td>1.042111</td>\n",
       "    </tr>\n",
       "    <tr>\n",
       "      <th>97</th>\n",
       "      <td>0.152420</td>\n",
       "      <td>0.893465</td>\n",
       "      <td>14.789802</td>\n",
       "      <td>2.985237</td>\n",
       "    </tr>\n",
       "    <tr>\n",
       "      <th>98</th>\n",
       "      <td>0.585019</td>\n",
       "      <td>1.305839</td>\n",
       "      <td>14.694272</td>\n",
       "      <td>5.087554</td>\n",
       "    </tr>\n",
       "    <tr>\n",
       "      <th>99</th>\n",
       "      <td>0.907968</td>\n",
       "      <td>1.146518</td>\n",
       "      <td>3.214849</td>\n",
       "      <td>5.255489</td>\n",
       "    </tr>\n",
       "  </tbody>\n",
       "</table>\n",
       "</div>"
      ],
      "text/plain": [
       "          x0        x1          y     preds\n",
       "1   0.227398  0.528785  -8.089018  2.041151\n",
       "5   0.252421  0.869484  -0.608612  3.113295\n",
       "6   0.668834  0.154752  -0.671790  1.801922\n",
       "12  0.264434  0.248535   6.983702  1.274472\n",
       "19  0.610989  0.227108 -13.857588  1.903300\n",
       "24  0.480500  0.305256  -5.360951  1.876767\n",
       "32  0.250297  0.640378  -0.320770  2.421728\n",
       "41  1.424222  0.468212   9.743906  4.253078\n",
       "44  0.357036  1.018513   3.206200  3.769611\n",
       "46  0.775585  0.723395  -5.030715  3.721356\n",
       "48  1.869891  0.444779  10.702530  5.074118\n",
       "70  0.222521  1.088262   5.091169  3.709830\n",
       "71  1.390700  0.394296  -7.530845  3.964289\n",
       "76  1.187308  0.505290   8.516486  3.890486\n",
       "78  0.642443  0.838017   9.496909  3.798939\n",
       "82  1.108854  0.347830  -4.933482  3.261198\n",
       "83  0.491577  1.346452   2.883569  5.022511\n",
       "88  0.250207  0.180566   6.765653  1.042111\n",
       "97  0.152420  0.893465  14.789802  2.985237\n",
       "98  0.585019  1.305839  14.694272  5.087554\n",
       "99  0.907968  1.146518   3.214849  5.255489"
      ]
     },
     "execution_count": 44,
     "metadata": {},
     "output_type": "execute_result"
    }
   ],
   "source": [
    "# Make a new DataFrame called ds which has only the rows of df where x0 and x1 are both positive.\n",
    "ds = df[(df[\"x0\"]>0)& (df[\"x1\"]>0)]\n",
    "ds"
   ]
  },
  {
   "cell_type": "code",
   "execution_count": null,
   "metadata": {},
   "outputs": [],
   "source": []
  }
 ],
 "metadata": {
  "kernelspec": {
   "display_name": "ds-boot-camp-prep",
   "language": "python",
   "name": "python3"
  },
  "language_info": {
   "codemirror_mode": {
    "name": "ipython",
    "version": 3
   },
   "file_extension": ".py",
   "mimetype": "text/x-python",
   "name": "python",
   "nbconvert_exporter": "python",
   "pygments_lexer": "ipython3",
   "version": "3.12.4"
  }
 },
 "nbformat": 4,
 "nbformat_minor": 2
}
